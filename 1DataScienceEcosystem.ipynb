{
 "cells": [
  {
   "cell_type": "markdown",
   "id": "3d722b08-869f-4911-be84-0556ac81f4ca",
   "metadata": {},
   "source": [
    "# Data Science Tools and Ecosystem"
   ]
  },
  {
   "cell_type": "markdown",
   "id": "b01b7b2b-6805-4f8b-a9c0-8b4b190a3feb",
   "metadata": {},
   "source": [
    "In this notebook, Data Science Tools and Ecosystem are summarized."
   ]
  },
  {
   "cell_type": "markdown",
   "id": "a0aabe7d-5219-4ca2-8512-a958b9362a24",
   "metadata": {},
   "source": [
    "Some of the most popular languages that Data Scientist use are:\n",
    "1. Python\n",
    "2. JavaScript\n",
    "3. R\n",
    "4. SQL"
   ]
  },
  {
   "cell_type": "markdown",
   "id": "8aac0940-07c3-4d37-ba6a-0c9d3c93e73e",
   "metadata": {},
   "source": [
    "Some of the commonly used libraries used by Data Scientists include:\n",
    "1. TensorFlow\n",
    "2. NumPy\n",
    "3. SciPy"
   ]
  },
  {
   "cell_type": "markdown",
   "id": "9b5064d0-d062-42cc-a4fe-7af9f8d77c69",
   "metadata": {},
   "source": [
    "Data Science Tools:\n",
    "1. |--Juypter Notebook--|\n",
    "2. |--SAS--|\n",
    "3. |--PyTorch--|"
   ]
  },
  {
   "cell_type": "markdown",
   "id": "acb4e36f-728e-4630-ae7f-29766b491d62",
   "metadata": {},
   "source": [
    "### Below are a few examples of evaluating arithmetic expressions in Python."
   ]
  },
  {
   "cell_type": "markdown",
   "id": "743944f3-5437-4060-b764-da6d455db498",
   "metadata": {},
   "source": [
    "This is a simple arithmetic expression to multiply then add integers."
   ]
  },
  {
   "cell_type": "code",
   "execution_count": 39,
   "id": "2e59afac-8173-4a07-b338-6841e156155c",
   "metadata": {},
   "outputs": [
    {
     "data": {
      "text/plain": [
       "17"
      ]
     },
     "execution_count": 39,
     "metadata": {},
     "output_type": "execute_result"
    }
   ],
   "source": [
    "(3*4)+5"
   ]
  },
  {
   "cell_type": "markdown",
   "id": "4d64371c-8ca8-4ceb-b3c5-5a36a638e532",
   "metadata": {},
   "source": [
    "This will convert 200 minutes to hours by dividing by 60"
   ]
  },
  {
   "cell_type": "code",
   "execution_count": 42,
   "id": "89f28500-38c0-44d7-adb0-a57b20880996",
   "metadata": {},
   "outputs": [
    {
     "data": {
      "text/plain": [
       "3.3333333333333335"
      ]
     },
     "execution_count": 42,
     "metadata": {},
     "output_type": "execute_result"
    }
   ],
   "source": [
    "200/60"
   ]
  },
  {
   "cell_type": "markdown",
   "id": "661f76ea-7852-45df-86c8-750a03b9fb80",
   "metadata": {},
   "source": [
    "** Objectives **\n",
    "* Popular languages Data Scientists use\n",
    "* Popular tools Data Scientists use\n",
    "* Popular libraries Data Scientists use"
   ]
  },
  {
   "cell_type": "markdown",
   "id": "0d908f25-5a2c-4e33-8bd3-1344136a2011",
   "metadata": {},
   "source": [
    "## Author\n",
    "Quincy Gholar-Bey"
   ]
  },
  {
   "cell_type": "code",
   "execution_count": null,
   "id": "6a3a0716-56e0-488c-8204-5e30fe5fdad9",
   "metadata": {},
   "outputs": [],
   "source": []
  }
 ],
 "metadata": {
  "kernelspec": {
   "display_name": "anaconda-panel-2023.05-py310",
   "language": "python",
   "name": "conda-env-anaconda-panel-2023.05-py310-py"
  },
  "language_info": {
   "codemirror_mode": {
    "name": "ipython",
    "version": 3
   },
   "file_extension": ".py",
   "mimetype": "text/x-python",
   "name": "python",
   "nbconvert_exporter": "python",
   "pygments_lexer": "ipython3",
   "version": "3.11.5"
  }
 },
 "nbformat": 4,
 "nbformat_minor": 5
}
